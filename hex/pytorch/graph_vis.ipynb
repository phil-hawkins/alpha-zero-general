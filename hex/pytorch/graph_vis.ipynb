{
 "metadata": {
  "language_info": {
   "codemirror_mode": {
    "name": "ipython",
    "version": 3
   },
   "file_extension": ".py",
   "mimetype": "text/x-python",
   "name": "python",
   "nbconvert_exporter": "python",
   "pygments_lexer": "ipython3",
   "version": 3
  },
  "orig_nbformat": 2,
  "kernelspec": {
   "name": "python_defaultSpec_1595482682248",
   "display_name": "Python 3.8.3 64-bit ('pytorch_mcts': conda)"
  }
 },
 "nbformat": 4,
 "nbformat_minor": 2,
 "cells": [
  {
   "cell_type": "code",
   "execution_count": 41,
   "metadata": {},
   "outputs": [],
   "source": [
    "from pyvis import network as net\n",
    "import networkx as nx\n",
    "\n",
    "BLACK = \"#000000\"\n",
    "RED = \"#ff0000\" "
   ]
  },
  {
   "cell_type": "code",
   "execution_count": 46,
   "metadata": {},
   "outputs": [
    {
     "output_type": "execute_result",
     "data": {
      "text/plain": "<IPython.lib.display.IFrame at 0x271071909a0>",
      "text/html": "\n        <iframe\n            width=\"500px\"\n            height=\"500px\"\n            src=\"example.html\"\n            frameborder=\"0\"\n            allowfullscreen\n        ></iframe>\n        "
     },
     "metadata": {},
     "execution_count": 46
    }
   ],
   "source": [
    "g = net.Network(notebook=True)\n",
    "nxg = nx.dorogovtsev_goltsev_mendes_graph(n=4)\n",
    "g.from_nx(nxg)\n",
    "g.repulsion(node_distance=75)\n",
    "g.toggle_physics(False)\n",
    "#g.set_edge_smooth(\"diagonalCross\")\n",
    "g.nodes[6]['color'] = BLACK\n",
    "g.show(\"example.html\")"
   ]
  },
  {
   "cell_type": "code",
   "execution_count": 51,
   "metadata": {},
   "outputs": [
    {
     "output_type": "execute_result",
     "data": {
      "text/plain": "{'size': 10, 'state': -1}"
     },
     "metadata": {},
     "execution_count": 51
    }
   ],
   "source": [
    "nxg.nodes[0]['state'] = -1\n",
    "nxg.nodes[0]"
   ]
  },
  {
   "cell_type": "code",
   "execution_count": 53,
   "metadata": {
    "tags": []
   },
   "outputs": [],
   "source": [
    "for i in range(len(nxg.nodes)):\n",
    "    nxg.nodes[i]['state'] = 0"
   ]
  },
  {
   "cell_type": "code",
   "execution_count": 56,
   "metadata": {},
   "outputs": [
    {
     "output_type": "execute_result",
     "data": {
      "text/plain": "NodeView((0, 1, 2, 3, 4, 5, 6, 7, 8, 9, 10, 11, 12, 13, 14, 15, 16, 17, 18, 19, 20, 21, 22, 23, 24, 25, 26, 27, 28, 29, 30, 31, 32, 33, 34, 35, 36, 37, 38, 39, 40, 41))"
     },
     "metadata": {},
     "execution_count": 56
    }
   ],
   "source": [
    "nxg.nodes"
   ]
  }
 ]
}