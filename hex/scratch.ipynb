{
 "cells": [
  {
   "cell_type": "code",
   "execution_count": null,
   "metadata": {
    "tags": []
   },
   "outputs": [],
   "source": [
    "import torch\n",
    "import os,sys; sys.path.insert(0, os.path.abspath('.'))\n",
    "\n",
    "sys.path.append('../../')\n",
    "from hex.pytorch.board_graph import Board, PositionalEncoder\n",
    "from hex.pytorch.graph_net import GraphNet\n",
    "from utils import dotdict"
   ]
  },
  {
   "cell_type": "code",
   "execution_count": null,
   "metadata": {
    "tags": []
   },
   "outputs": [],
   "source": [
    "b = Board(torch.zeros(4,4).long())\n",
    "b.np_pieces[1,0] = -1\n",
    "b.np_pieces[1,1] = -1\n",
    "b.np_pieces[2,1] = -1\n",
    "b.np_pieces[2,2] = -1\n",
    "b.np_pieces[0,2] = 1\n",
    "b.np_pieces[0,3] = 1\n",
    "b.np_pieces[3,2] = 1\n",
    "b.np_pieces[2,0] = 1\n",
    "print(b.display_string, \"\\n\\n\", b.np_pieces)"
   ]
  },
  {
   "cell_type": "code",
   "execution_count": null,
   "metadata": {},
   "outputs": [],
   "source": [
    "args = dotdict({\n",
    "    'lr': 0.001,\n",
    "    'dropout': 0.3,\n",
    "    'epochs': 10,\n",
    "    'batch_size': 64,\n",
    "    'cuda': torch.cuda.is_available(),\n",
    "    'num_channels': 32,\n",
    "    'res_blocks' : 5,\n",
    "    'board_size' : 7,\n",
    "    #'in_channels' : 3,                   # 0/1/2 - black/white/empty\n",
    "    'expand_base' : 2,\n",
    "    'attn_heads' : 1,\n",
    "    'pos_encoding_sz' : 28,\n",
    "    'readout_attn_heads' : 4\n",
    "})\n",
    "\n",
    "model = GraphNet(args)"
   ]
  },
  {
   "cell_type": "code",
   "execution_count": null,
   "metadata": {},
   "outputs": [],
   "source": [
    "p, v = model(b.np_pieces.unsqueeze(dim=0))"
   ]
  },
  {
   "cell_type": "code",
   "execution_count": null,
   "metadata": {},
   "outputs": [],
   "source": [
    "import seaborn as sns\n",
    "%matplotlib inline\n",
    "import matplotlib.pyplot as plt\n",
    "\n",
    "penc = PositionalEncoder(d_model=28, max_seq_len=500, base_wave_length=5)\n",
    "#x = torch.randperm(20)\n",
    "x = torch.arange(500)\n",
    "x = penc(x)\n",
    "\n",
    "ax = sns.heatmap(x[:20].numpy(), cmap=sns.color_palette(\"Blues\"))"
   ]
  },
  {
   "cell_type": "code",
   "execution_count": null,
   "metadata": {},
   "outputs": [],
   "source": [
    "torch.rand(4, 4).softmax(dim=1)"
   ]
  },
  {
   "cell_type": "code",
   "execution_count": null,
   "metadata": {},
   "outputs": [],
   "source": [
    "import numpy as np\n",
    "import torch"
   ]
  },
  {
   "cell_type": "code",
   "execution_count": null,
   "metadata": {
    "tags": []
   },
   "outputs": [],
   "source": [
    "a = np.arange(4)\n",
    "for i, p in enumerate(a):\n",
    "    print(i, p)"
   ]
  },
  {
   "cell_type": "code",
   "execution_count": null,
   "metadata": {},
   "outputs": [],
   "source": [
    "a = torch.arange(4)\n",
    "str(a.numpy())"
   ]
  },
  {
   "cell_type": "code",
   "execution_count": null,
   "metadata": {},
   "outputs": [],
   "source": [
    "d = {1: 2, 2:3}\n",
    "len(d)"
   ]
  },
  {
   "cell_type": "code",
   "execution_count": null,
   "metadata": {
    "tags": []
   },
   "outputs": [],
   "source": [
    " %matplotlib\n",
    " import matplotlib.pyplot as plt"
   ]
  },
  {
   "cell_type": "code",
   "execution_count": null,
   "metadata": {},
   "outputs": [],
   "source": [
    "fig, ax = plt.subplots()\n",
    "ln, = ax.plot(range(5))\n"
   ]
  },
  {
   "cell_type": "code",
   "execution_count": null,
   "metadata": {},
   "outputs": [],
   "source": [
    "ln.set_color('orange')"
   ]
  },
  {
   "cell_type": "code",
   "execution_count": null,
   "metadata": {},
   "outputs": [],
   "source": [
    "plt.ioff()"
   ]
  },
  {
   "cell_type": "code",
   "execution_count": null,
   "metadata": {},
   "outputs": [],
   "source": [
    "plt.ion()"
   ]
  },
  {
   "cell_type": "code",
   "execution_count": null,
   "metadata": {},
   "outputs": [],
   "source": [
    "ln.set_color('red')"
   ]
  },
  {
   "cell_type": "code",
   "execution_count": null,
   "metadata": {},
   "outputs": [],
   "source": [
    "import logging\n",
    "\n",
    "log = logging.getLogger()"
   ]
  },
  {
   "cell_type": "code",
   "execution_count": null,
   "metadata": {
    "tags": []
   },
   "outputs": [],
   "source": [
    "log.warn('hi')"
   ]
  },
  {
   "cell_type": "code",
   "execution_count": null,
   "metadata": {},
   "outputs": [],
   "source": [
    "log.level = logging.info()\n",
    "log"
   ]
  },
  {
   "cell_type": "code",
   "execution_count": null,
   "metadata": {},
   "outputs": [],
   "source": [
    "from absl import app, flags, logging"
   ]
  },
  {
   "cell_type": "code",
   "execution_count": null,
   "metadata": {},
   "outputs": [],
   "source": [
    "d = {'board_type': 'vortex', 'player2': 'nnet', 'num_games': 2, 'cpu1_checkpoint': 'temp/gat/strong_5x5_b.pth.tar', 'cpu2_checkpoint': 'temp/gat/strong_5x5_b.pth.tar', 'p1_MCTS_sims': 2, 'p2_MCTS_sims': 2, 'game_board_size': 5, 'p1_nnet': 'base_gat', 'p2_nnet': 'base_gat', 'git_record': 'commit c77717f47f31eb09a63d8bea3147aa3c01b07847\\nAuthor: Phil Hawkins <phil.a.hawkins@gmail.com>\\nDate:   Thu Jul 30 20:04:34 2020 +1000\\n\\n    refactor with vortex game\\n', 'p1_wins': 1, 'p2_wins': 1}"
   ]
  },
  {
   "cell_type": "code",
   "execution_count": null,
   "metadata": {},
   "outputs": [],
   "source": [
    "d"
   ]
  },
  {
   "cell_type": "code",
   "execution_count": null,
   "metadata": {},
   "outputs": [],
   "source": [
    "import ast\n",
    "\n",
    "s = \"{'board_type': 'vortex', 'player2': 'nnet', 'num_games': 2, 'cpu1_checkpoint': 'temp/gat/strong_5x5_b.pth.tar', 'cpu2_checkpoint': 'temp/gat/strong_5x5_b.pth.tar', 'p1_MCTS_sims': 2, 'p2_MCTS_sims': 2, 'game_board_size': 5, 'p1_nnet': 'base_gat', 'p2_nnet': 'base_gat', 'git_record': 'commit c77717f47f31eb09a63d8bea3147aa3c01b07847\\nAuthor: Phil Hawkins <phil.a.hawkins@gmail.com>\\nDate:   Thu Jul 30 20:04:34 2020 +1000\\n\\n    refactor with vortex game\\n', 'p1_wins': 1, 'p2_wins': 1}\"\n",
    "s = s.replace('\\n', '\\\\n')\n",
    "d = ast.literal_eval(s)\n",
    "d"
   ]
  },
  {
   "cell_type": "code",
   "execution_count": null,
   "metadata": {},
   "outputs": [],
   "source": [
    "import networkx as nx\n",
    "import numpy as np\n",
    "import scipy as sp\n",
    "import torch\n",
    "from pyvis import network as net\n"
   ]
  },
  {
   "cell_type": "code",
   "execution_count": null,
   "metadata": {},
   "outputs": [],
   "source": [
    "bsize = 4\n",
    "n = bsize**2\n",
    "G = nx.grid_2d_graph(bsize, bsize)\n",
    "\n",
    "layout = {}\n",
    "for i in range(bsize):\n",
    "    for j in range (bsize):\n",
    "        if i < (bsize-1) and j > 0:\n",
    "            G.add_edge((i, j), (i+1, j-1))\n",
    "        layout[(i, j)] = (j + (i/2), bsize-1-i)\n",
    "nx.draw_networkx(G, layout)"
   ]
  },
  {
   "cell_type": "code",
   "execution_count": null,
   "metadata": {},
   "outputs": [],
   "source": [
    "A = nx.to_scipy_sparse_matrix(G)\n",
    "edge_index = torch.tensor(A.nonzero())\n",
    "A = torch.sparse_coo_tensor(indices=edge_index, values=torch.ones_like(edge_index[0]), size=(n, n))\n",
    "Ad = A.to_dense()\n",
    "edge_index, n"
   ]
  },
  {
   "cell_type": "code",
   "execution_count": null,
   "metadata": {},
   "outputs": [],
   "source": [
    "# connectivity distance 1\n",
    "# tree depth 2\n",
    "A1c = torch.einsum('ij,jk->ikj',Ad,Ad)\n",
    "A1 = ((A1c.sum(dim=2) > 1).long().fill_diagonal_(0) - Ad).relu()\n",
    "A1c = A1c * A1.unsqueeze(dim=2)\n",
    "\n",
    "Ad, A1, A1c[0, 5]"
   ]
  },
  {
   "cell_type": "code",
   "execution_count": null,
   "metadata": {},
   "outputs": [],
   "source": [
    "A1c[0, 5], A1c[5, 10]"
   ]
  },
  {
   "cell_type": "code",
   "execution_count": null,
   "metadata": {},
   "outputs": [],
   "source": [
    "def and_rule(v1, v2):\n",
    "    vi = (v1*v2).max() + 1\n",
    "    vm = (v1.sum() - vi) * (v2.sum() - vi)\n",
    "    return min(max(vm, 0), 1)"
   ]
  },
  {
   "cell_type": "code",
   "execution_count": null,
   "metadata": {},
   "outputs": [],
   "source": [
    "and_rule(A1c[0, 5], A1c[5, 10])"
   ]
  },
  {
   "cell_type": "code",
   "execution_count": null,
   "metadata": {},
   "outputs": [],
   "source": [
    "and_rule(A1c[1, 6], A1c[6, 8])"
   ]
  },
  {
   "cell_type": "code",
   "execution_count": null,
   "metadata": {},
   "outputs": [],
   "source": [
    "from multiprocessing import Pool\n",
    "\n"
   ]
  },
  {
   "cell_type": "code",
   "execution_count": 2,
   "metadata": {},
   "outputs": [],
   "source": [
    "def f(x):\n",
    "    return x*x\n",
    "\n",
    "if __name__ == '__main__':\n",
    "    with Pool() as p:\n",
    "        print(p.map(f, [1, 2, 3]))"
   ]
  },
  {
   "cell_type": "code",
   "execution_count": null,
   "metadata": {},
   "outputs": [],
   "source": []
  }
 ],
 "metadata": {
  "language_info": {
   "codemirror_mode": {
    "name": "ipython",
    "version": 3
   },
   "file_extension": ".py",
   "mimetype": "text/x-python",
   "name": "python",
   "nbconvert_exporter": "python",
   "pygments_lexer": "ipython3",
   "version": "3.8.3-final"
  },
  "orig_nbformat": 2,
  "kernelspec": {
   "name": "python_defaultSpec_1598839491833",
   "display_name": "Python 3.8.3 64-bit ('pytorch_mcts': conda)"
  }
 },
 "nbformat": 4,
 "nbformat_minor": 2
}