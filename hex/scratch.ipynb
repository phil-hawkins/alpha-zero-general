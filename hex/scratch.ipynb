{
 "cells": [
  {
   "cell_type": "code",
   "execution_count": 1,
   "metadata": {
    "tags": []
   },
   "outputs": [
    {
     "output_type": "error",
     "ename": "ModuleNotFoundError",
     "evalue": "No module named 'hex.pytorch'",
     "traceback": [
      "\u001b[1;31m---------------------------------------------------------------------------\u001b[0m",
      "\u001b[1;31mModuleNotFoundError\u001b[0m                       Traceback (most recent call last)",
      "\u001b[1;32m<ipython-input-1-dbeb0daa243b>\u001b[0m in \u001b[0;36m<module>\u001b[1;34m\u001b[0m\n\u001b[0;32m      3\u001b[0m \u001b[1;33m\u001b[0m\u001b[0m\n\u001b[0;32m      4\u001b[0m \u001b[0msys\u001b[0m\u001b[1;33m.\u001b[0m\u001b[0mpath\u001b[0m\u001b[1;33m.\u001b[0m\u001b[0mappend\u001b[0m\u001b[1;33m(\u001b[0m\u001b[1;34m'../../'\u001b[0m\u001b[1;33m)\u001b[0m\u001b[1;33m\u001b[0m\u001b[1;33m\u001b[0m\u001b[0m\n\u001b[1;32m----> 5\u001b[1;33m \u001b[1;32mfrom\u001b[0m \u001b[0mhex\u001b[0m\u001b[1;33m.\u001b[0m\u001b[0mpytorch\u001b[0m\u001b[1;33m.\u001b[0m\u001b[0mboard_graph\u001b[0m \u001b[1;32mimport\u001b[0m \u001b[0mBoard\u001b[0m\u001b[1;33m,\u001b[0m \u001b[0mPositionalEncoder\u001b[0m\u001b[1;33m\u001b[0m\u001b[1;33m\u001b[0m\u001b[0m\n\u001b[0m\u001b[0;32m      6\u001b[0m \u001b[1;32mfrom\u001b[0m \u001b[0mhex\u001b[0m\u001b[1;33m.\u001b[0m\u001b[0mpytorch\u001b[0m\u001b[1;33m.\u001b[0m\u001b[0mgraph_net\u001b[0m \u001b[1;32mimport\u001b[0m \u001b[0mGraphNet\u001b[0m\u001b[1;33m\u001b[0m\u001b[1;33m\u001b[0m\u001b[0m\n\u001b[0;32m      7\u001b[0m \u001b[1;32mfrom\u001b[0m \u001b[0mutils\u001b[0m \u001b[1;32mimport\u001b[0m \u001b[0mdotdict\u001b[0m\u001b[1;33m\u001b[0m\u001b[1;33m\u001b[0m\u001b[0m\n",
      "\u001b[1;31mModuleNotFoundError\u001b[0m: No module named 'hex.pytorch'"
     ]
    }
   ],
   "source": [
    "import torch\n",
    "import os,sys; sys.path.insert(0, os.path.abspath('.'))\n",
    "\n",
    "sys.path.append('../../')\n",
    "from hex.pytorch.board_graph import Board, PositionalEncoder\n",
    "from hex.pytorch.graph_net import GraphNet\n",
    "from utils import dotdict"
   ]
  },
  {
   "cell_type": "code",
   "execution_count": 12,
   "metadata": {},
   "outputs": [
    {
     "output_type": "error",
     "ename": "FileExistsError",
     "evalue": "[WinError 183] Cannot create a file when that file already exists: './dtest'",
     "traceback": [
      "\u001b[1;31m---------------------------------------------------------------------------\u001b[0m",
      "\u001b[1;31mFileExistsError\u001b[0m                           Traceback (most recent call last)",
      "\u001b[1;32m<ipython-input-12-ad66d78e4b8a>\u001b[0m in \u001b[0;36m<module>\u001b[1;34m\u001b[0m\n\u001b[0;32m      2\u001b[0m \u001b[1;33m\u001b[0m\u001b[0m\n\u001b[0;32m      3\u001b[0m \u001b[1;32mif\u001b[0m \u001b[1;32mnot\u001b[0m \u001b[0mos\u001b[0m\u001b[1;33m.\u001b[0m\u001b[0mpath\u001b[0m\u001b[1;33m.\u001b[0m\u001b[0misdir\u001b[0m\u001b[1;33m(\u001b[0m\u001b[1;34m'./dtest/x'\u001b[0m\u001b[1;33m)\u001b[0m\u001b[1;33m:\u001b[0m\u001b[1;33m\u001b[0m\u001b[1;33m\u001b[0m\u001b[0m\n\u001b[1;32m----> 4\u001b[1;33m     \u001b[0mos\u001b[0m\u001b[1;33m.\u001b[0m\u001b[0mmkdir\u001b[0m\u001b[1;33m(\u001b[0m\u001b[1;34m'./dtest'\u001b[0m\u001b[1;33m)\u001b[0m\u001b[1;33m\u001b[0m\u001b[1;33m\u001b[0m\u001b[0m\n\u001b[0m\u001b[0;32m      5\u001b[0m     \u001b[0mos\u001b[0m\u001b[1;33m.\u001b[0m\u001b[0mmkdir\u001b[0m\u001b[1;33m(\u001b[0m\u001b[1;34m'./dtest/x'\u001b[0m\u001b[1;33m)\u001b[0m\u001b[1;33m\u001b[0m\u001b[1;33m\u001b[0m\u001b[0m\n",
      "\u001b[1;31mFileExistsError\u001b[0m: [WinError 183] Cannot create a file when that file already exists: './dtest'"
     ]
    }
   ],
   "source": [
    "import os\n",
    "\n",
    "if not os.path.isdir('./dtest/x'):\n",
    "    if not os.path.isdir('./dtest'):\n",
    "        os.mkdir('./dtest')\n",
    "    os.mkdir('./dtest/x')"
   ]
  },
  {
   "cell_type": "code",
   "execution_count": 5,
   "metadata": {},
   "outputs": [
    {
     "output_type": "execute_result",
     "data": {
      "text/plain": "torch.return_types.min(\nvalues=tensor([0, 5, 1]),\nindices=tensor([1, 0, 0]))"
     },
     "metadata": {},
     "execution_count": 5
    }
   ],
   "source": [
    "a = torch.tensor([0,5,1])\n",
    "torch.stack((a, a*2), dim=0).min(dim=0)"
   ]
  },
  {
   "cell_type": "code",
   "execution_count": 40,
   "metadata": {},
   "outputs": [
    {
     "output_type": "execute_result",
     "data": {
      "text/plain": "[0, 0, 0]"
     },
     "metadata": {},
     "execution_count": 40
    }
   ],
   "source": [
    "[0] * 3"
   ]
  },
  {
   "cell_type": "code",
   "execution_count": null,
   "metadata": {
    "tags": []
   },
   "outputs": [],
   "source": [
    "b = Board(torch.zeros(4,4).long())\n",
    "b.np_pieces[1,0] = -1\n",
    "b.np_pieces[1,1] = -1\n",
    "b.np_pieces[2,1] = -1\n",
    "b.np_pieces[2,2] = -1\n",
    "b.np_pieces[0,2] = 1\n",
    "b.np_pieces[0,3] = 1\n",
    "b.np_pieces[3,2] = 1\n",
    "b.np_pieces[2,0] = 1\n",
    "print(b.display_string, \"\\n\\n\", b.np_pieces)"
   ]
  },
  {
   "cell_type": "code",
   "execution_count": null,
   "metadata": {},
   "outputs": [],
   "source": [
    "args = dotdict({\n",
    "    'lr': 0.001,\n",
    "    'dropout': 0.3,\n",
    "    'epochs': 10,\n",
    "    'batch_size': 64,\n",
    "    'cuda': torch.cuda.is_available(),\n",
    "    'num_channels': 32,\n",
    "    'res_blocks' : 5,\n",
    "    'board_size' : 7,\n",
    "    #'in_channels' : 3,                   # 0/1/2 - black/white/empty\n",
    "    'expand_base' : 2,\n",
    "    'attn_heads' : 1,\n",
    "    'pos_encoding_sz' : 28,\n",
    "    'readout_attn_heads' : 4\n",
    "})\n",
    "\n",
    "model = GraphNet(args)"
   ]
  },
  {
   "cell_type": "code",
   "execution_count": null,
   "metadata": {},
   "outputs": [],
   "source": [
    "p, v = model(b.np_pieces.unsqueeze(dim=0))"
   ]
  },
  {
   "cell_type": "code",
   "execution_count": null,
   "metadata": {},
   "outputs": [],
   "source": [
    "import seaborn as sns\n",
    "%matplotlib inline\n",
    "import matplotlib.pyplot as plt\n",
    "\n",
    "penc = PositionalEncoder(d_model=28, max_seq_len=500, base_wave_length=5)\n",
    "#x = torch.randperm(20)\n",
    "x = torch.arange(500)\n",
    "x = penc(x)\n",
    "\n",
    "ax = sns.heatmap(x[:20].numpy(), cmap=sns.color_palette(\"Blues\"))"
   ]
  },
  {
   "cell_type": "code",
   "execution_count": null,
   "metadata": {},
   "outputs": [],
   "source": [
    "torch.rand(4, 4).softmax(dim=1)"
   ]
  },
  {
   "cell_type": "code",
   "execution_count": null,
   "metadata": {},
   "outputs": [],
   "source": [
    "import numpy as np\n",
    "import torch"
   ]
  },
  {
   "cell_type": "code",
   "execution_count": null,
   "metadata": {
    "tags": []
   },
   "outputs": [],
   "source": [
    "a = np.arange(4)\n",
    "for i, p in enumerate(a):\n",
    "    print(i, p)"
   ]
  },
  {
   "cell_type": "code",
   "execution_count": null,
   "metadata": {},
   "outputs": [],
   "source": [
    "a = torch.arange(4)\n",
    "str(a.numpy())"
   ]
  },
  {
   "cell_type": "code",
   "execution_count": null,
   "metadata": {},
   "outputs": [],
   "source": [
    "d = {1: 2, 2:3}\n",
    "len(d)"
   ]
  },
  {
   "cell_type": "code",
   "execution_count": null,
   "metadata": {
    "tags": []
   },
   "outputs": [],
   "source": [
    " %matplotlib\n",
    " import matplotlib.pyplot as plt"
   ]
  },
  {
   "cell_type": "code",
   "execution_count": null,
   "metadata": {},
   "outputs": [],
   "source": [
    "fig, ax = plt.subplots()\n",
    "ln, = ax.plot(range(5))\n"
   ]
  },
  {
   "cell_type": "code",
   "execution_count": null,
   "metadata": {},
   "outputs": [],
   "source": [
    "ln.set_color('orange')"
   ]
  },
  {
   "cell_type": "code",
   "execution_count": null,
   "metadata": {},
   "outputs": [],
   "source": [
    "plt.ioff()"
   ]
  },
  {
   "cell_type": "code",
   "execution_count": null,
   "metadata": {},
   "outputs": [],
   "source": [
    "plt.ion()"
   ]
  },
  {
   "cell_type": "code",
   "execution_count": null,
   "metadata": {},
   "outputs": [],
   "source": [
    "ln.set_color('red')"
   ]
  },
  {
   "cell_type": "code",
   "execution_count": null,
   "metadata": {},
   "outputs": [],
   "source": [
    "import logging\n",
    "\n",
    "log = logging.getLogger()"
   ]
  },
  {
   "cell_type": "code",
   "execution_count": null,
   "metadata": {
    "tags": []
   },
   "outputs": [],
   "source": [
    "log.warn('hi')"
   ]
  },
  {
   "cell_type": "code",
   "execution_count": null,
   "metadata": {},
   "outputs": [],
   "source": [
    "log.level = logging.info()\n",
    "log"
   ]
  },
  {
   "cell_type": "code",
   "execution_count": null,
   "metadata": {},
   "outputs": [],
   "source": [
    "from absl import app, flags, logging"
   ]
  },
  {
   "cell_type": "code",
   "execution_count": null,
   "metadata": {},
   "outputs": [],
   "source": [
    "d = {'board_type': 'vortex', 'player2': 'nnet', 'num_games': 2, 'cpu1_checkpoint': 'temp/gat/strong_5x5_b.pth.tar', 'cpu2_checkpoint': 'temp/gat/strong_5x5_b.pth.tar', 'p1_MCTS_sims': 2, 'p2_MCTS_sims': 2, 'game_board_size': 5, 'p1_nnet': 'base_gat', 'p2_nnet': 'base_gat', 'git_record': 'commit c77717f47f31eb09a63d8bea3147aa3c01b07847\\nAuthor: Phil Hawkins <phil.a.hawkins@gmail.com>\\nDate:   Thu Jul 30 20:04:34 2020 +1000\\n\\n    refactor with vortex game\\n', 'p1_wins': 1, 'p2_wins': 1}"
   ]
  },
  {
   "cell_type": "code",
   "execution_count": null,
   "metadata": {},
   "outputs": [],
   "source": [
    "d"
   ]
  },
  {
   "cell_type": "code",
   "execution_count": null,
   "metadata": {},
   "outputs": [],
   "source": [
    "import ast\n",
    "\n",
    "s = \"{'board_type': 'vortex', 'player2': 'nnet', 'num_games': 2, 'cpu1_checkpoint': 'temp/gat/strong_5x5_b.pth.tar', 'cpu2_checkpoint': 'temp/gat/strong_5x5_b.pth.tar', 'p1_MCTS_sims': 2, 'p2_MCTS_sims': 2, 'game_board_size': 5, 'p1_nnet': 'base_gat', 'p2_nnet': 'base_gat', 'git_record': 'commit c77717f47f31eb09a63d8bea3147aa3c01b07847\\nAuthor: Phil Hawkins <phil.a.hawkins@gmail.com>\\nDate:   Thu Jul 30 20:04:34 2020 +1000\\n\\n    refactor with vortex game\\n', 'p1_wins': 1, 'p2_wins': 1}\"\n",
    "s = s.replace('\\n', '\\\\n')\n",
    "d = ast.literal_eval(s)\n",
    "d"
   ]
  },
  {
   "cell_type": "code",
   "execution_count": null,
   "metadata": {},
   "outputs": [],
   "source": [
    "import networkx as nx\n",
    "import numpy as np\n",
    "import scipy as sp\n",
    "import torch\n",
    "from pyvis import network as net\n"
   ]
  },
  {
   "cell_type": "code",
   "execution_count": null,
   "metadata": {},
   "outputs": [],
   "source": [
    "bsize = 4\n",
    "n = bsize**2\n",
    "G = nx.grid_2d_graph(bsize, bsize)\n",
    "\n",
    "layout = {}\n",
    "for i in range(bsize):\n",
    "    for j in range (bsize):\n",
    "        if i < (bsize-1) and j > 0:\n",
    "            G.add_edge((i, j), (i+1, j-1))\n",
    "        layout[(i, j)] = (j + (i/2), bsize-1-i)\n",
    "nx.draw_networkx(G, layout)"
   ]
  },
  {
   "cell_type": "code",
   "execution_count": null,
   "metadata": {},
   "outputs": [],
   "source": [
    "A = nx.to_scipy_sparse_matrix(G)\n",
    "edge_index = torch.tensor(A.nonzero())\n",
    "A = torch.sparse_coo_tensor(indices=edge_index, values=torch.ones_like(edge_index[0]), size=(n, n))\n",
    "Ad = A.to_dense()\n",
    "edge_index, n"
   ]
  },
  {
   "cell_type": "code",
   "execution_count": null,
   "metadata": {},
   "outputs": [],
   "source": [
    "# connectivity distance 1\n",
    "# tree depth 2\n",
    "A1c = torch.einsum('ij,jk->ikj',Ad,Ad)\n",
    "A1 = ((A1c.sum(dim=2) > 1).long().fill_diagonal_(0) - Ad).relu()\n",
    "A1c = A1c * A1.unsqueeze(dim=2)\n",
    "\n",
    "Ad, A1, A1c[0, 5]"
   ]
  },
  {
   "cell_type": "code",
   "execution_count": null,
   "metadata": {},
   "outputs": [],
   "source": [
    "A1c[0, 5], A1c[5, 10]"
   ]
  },
  {
   "cell_type": "code",
   "execution_count": null,
   "metadata": {},
   "outputs": [],
   "source": [
    "def and_rule(v1, v2):\n",
    "    vi = (v1*v2).max() + 1\n",
    "    vm = (v1.sum() - vi) * (v2.sum() - vi)\n",
    "    return min(max(vm, 0), 1)"
   ]
  },
  {
   "cell_type": "code",
   "execution_count": null,
   "metadata": {},
   "outputs": [],
   "source": [
    "and_rule(A1c[0, 5], A1c[5, 10])"
   ]
  },
  {
   "cell_type": "code",
   "execution_count": null,
   "metadata": {},
   "outputs": [],
   "source": [
    "and_rule(A1c[1, 6], A1c[6, 8])"
   ]
  },
  {
   "cell_type": "code",
   "execution_count": null,
   "metadata": {},
   "outputs": [],
   "source": [
    "from multiprocessing import Pool\n",
    "\n"
   ]
  },
  {
   "cell_type": "code",
   "execution_count": 2,
   "metadata": {},
   "outputs": [],
   "source": [
    "def f(x):\n",
    "    return x*x\n",
    "\n",
    "if __name__ == '__main__':\n",
    "    with Pool() as p:\n",
    "        print(p.map(f, [1, 2, 3]))"
   ]
  },
  {
   "cell_type": "code",
   "execution_count": null,
   "metadata": {},
   "outputs": [],
   "source": []
  }
 ],
 "metadata": {
  "language_info": {
   "codemirror_mode": {
    "name": "ipython",
    "version": 3
   },
   "file_extension": ".py",
   "mimetype": "text/x-python",
   "name": "python",
   "nbconvert_exporter": "python",
   "pygments_lexer": "ipython3",
   "version": "3.8.3-final"
  },
  "orig_nbformat": 2,
  "kernelspec": {
   "name": "python_defaultSpec_1600211251816",
   "display_name": "Python 3.8.3 64-bit ('pytorch_mcts': conda)"
  }
 },
 "nbformat": 4,
 "nbformat_minor": 2
}